{
 "cells": [
  {
   "cell_type": "markdown",
   "metadata": {},
   "source": [
    "# vim shortcuts\n",
    "[vim](https://pypi.org/project/jupyterlab-vim/)"
   ]
  },
  {
   "cell_type": "markdown",
   "metadata": {},
   "source": [
    "0.1. In each of the following situations, indicate whether $f = O(g)$, or $f = Ω(g)$, or both (in which case\n",
    "$f = Θ(g)$)."
   ]
  },
  {
   "cell_type": "markdown",
   "metadata": {},
   "source": [
    "$f(n)$, $g(n)$"
   ]
  },
  {
   "cell_type": "markdown",
   "metadata": {},
   "source": [
    "(a) $n − 100$, $n − 200$"
   ]
  },
  {
   "cell_type": "markdown",
   "metadata": {},
   "source": [
    "$f=\\Theta(g)$"
   ]
  },
  {
   "cell_type": "markdown",
   "metadata": {},
   "source": [
    "(b) $n^{1/2}$, $n^{2/3}$"
   ]
  },
  {
   "cell_type": "markdown",
   "metadata": {},
   "source": [
    "$f = O(g)$"
   ]
  },
  {
   "cell_type": "markdown",
   "metadata": {},
   "source": [
    "(c) $100n + \\log n$, $n + (\\log n)^ 2$"
   ]
  },
  {
   "cell_type": "markdown",
   "metadata": {},
   "source": [
    "$f=\\Theta(g)$"
   ]
  },
  {
   "cell_type": "markdown",
   "metadata": {},
   "source": [
    "(d) $n \\log n$, $10 n \\log 10n$"
   ]
  },
  {
   "cell_type": "markdown",
   "metadata": {},
   "source": [
    "$f=\\Theta(g)$"
   ]
  },
  {
   "cell_type": "markdown",
   "metadata": {},
   "source": [
    "(e) $\\log 2n$, $\\log 3n$"
   ]
  },
  {
   "cell_type": "markdown",
   "metadata": {},
   "source": [
    "$f=\\Theta(g)$"
   ]
  },
  {
   "cell_type": "markdown",
   "metadata": {},
   "source": [
    "(f) $10 \\log n$, $\\log(n^2 )$"
   ]
  },
  {
   "cell_type": "markdown",
   "metadata": {},
   "source": [
    "$f=\\Theta(g)$"
   ]
  },
  {
   "cell_type": "markdown",
   "metadata": {},
   "source": [
    "(g) $n^{1.01}$, $n \\log^2 n$"
   ]
  },
  {
   "cell_type": "markdown",
   "metadata": {},
   "source": [
    "$f = \\Omega(g)$"
   ]
  },
  {
   "cell_type": "markdown",
   "metadata": {},
   "source": [
    "(h) $n^2 / \\log n$, $n(\\log n)^2$"
   ]
  },
  {
   "cell_type": "markdown",
   "metadata": {},
   "source": [
    "$f=\\Omega(g)$"
   ]
  },
  {
   "cell_type": "markdown",
   "metadata": {},
   "source": [
    "(i) $n^{0.1}$, $(\\log n)^{10}$"
   ]
  },
  {
   "cell_type": "markdown",
   "metadata": {},
   "source": [
    "$f=\\Omega(g)$"
   ]
  },
  {
   "cell_type": "markdown",
   "metadata": {},
   "source": [
    "(j) $(\\log n)^{\\log n}$, $n / \\log n$"
   ]
  },
  {
   "cell_type": "markdown",
   "metadata": {},
   "source": [
    "$f = \\Omega(g)$"
   ]
  },
  {
   "cell_type": "markdown",
   "metadata": {},
   "source": [
    "(k) $\\sqrt{n}$, $(\\log n)^3$"
   ]
  },
  {
   "cell_type": "markdown",
   "metadata": {},
   "source": [
    "$f = \\Omega(g)$"
   ]
  },
  {
   "cell_type": "markdown",
   "metadata": {},
   "source": [
    "(l) $n^{1/2}$, $5 ^{ \\log_2 n}$"
   ]
  },
  {
   "cell_type": "markdown",
   "metadata": {},
   "source": [
    "$f = O(g)$"
   ]
  },
  {
   "cell_type": "code",
   "execution_count": 3,
   "metadata": {},
   "outputs": [
    {
     "data": {
      "text/plain": [
       "2.321928094887362"
      ]
     },
     "execution_count": 3,
     "metadata": {},
     "output_type": "execute_result"
    }
   ],
   "source": [
    "from math import log\n",
    "log(5)/log(2)"
   ]
  },
  {
   "cell_type": "markdown",
   "metadata": {},
   "source": [
    "(m) $n2^n$,$3^n$"
   ]
  },
  {
   "cell_type": "markdown",
   "metadata": {},
   "source": [
    "$f = O(g)$"
   ]
  },
  {
   "cell_type": "markdown",
   "metadata": {},
   "source": [
    "(n) $2^n$, $2^{n+1}$"
   ]
  },
  {
   "cell_type": "markdown",
   "metadata": {},
   "source": [
    "$f=\\Theta(g)$"
   ]
  },
  {
   "cell_type": "markdown",
   "metadata": {},
   "source": [
    "(o) $n!$, $2^n$"
   ]
  },
  {
   "cell_type": "markdown",
   "metadata": {},
   "source": [
    "$f = \\Omega(g)$"
   ]
  },
  {
   "cell_type": "markdown",
   "metadata": {},
   "source": [
    "(p) $(\\log n)^{\\log n}$, $2^{(\\log_2 n)^2}$"
   ]
  },
  {
   "cell_type": "markdown",
   "metadata": {},
   "source": [
    "$f=O(g)$"
   ]
  },
  {
   "cell_type": "markdown",
   "metadata": {},
   "source": [
    "(q) $\\sum_{i=1}^{n} i^k$, $n^{k+1}$"
   ]
  },
  {
   "cell_type": "markdown",
   "metadata": {},
   "source": [
    "$f=\\Theta(g)$"
   ]
  },
  {
   "cell_type": "markdown",
   "metadata": {},
   "source": [
    "0.2. Show that, if $c$ is a positive real number, then $g(n) = 1 + c + c^2 + · · · + c^n$ is:"
   ]
  },
  {
   "cell_type": "markdown",
   "metadata": {},
   "source": [
    "(a) $Θ(1)$ if $c < 1$."
   ]
  },
  {
   "cell_type": "markdown",
   "metadata": {},
   "source": [
    "Bounded in this range $\\left(\\frac{1-c}{1-c}, \\frac{1}{1-c}\\right)$, therefore $g = \\Theta(1)$"
   ]
  },
  {
   "cell_type": "markdown",
   "metadata": {},
   "source": [
    "(b) $Θ(n)$ if $c = 1$."
   ]
  },
  {
   "cell_type": "markdown",
   "metadata": {},
   "source": [
    "(c) $Θ(c^n )$ if $c > 1$."
   ]
  },
  {
   "cell_type": "markdown",
   "metadata": {},
   "source": [
    "$\\frac{c^{n+1}}{c} \\le \\frac{c^{n+1}-1}{c-1} \\le (c+1)c^{n}$"
   ]
  },
  {
   "cell_type": "markdown",
   "metadata": {},
   "source": [
    "The moral: in big-Θ terms, the sum of a geometric series is simply the first term if the series is strictly decreasing, the last term if the series is strictly increasing, or the number of terms if the series is unchanging."
   ]
  },
  {
   "cell_type": "markdown",
   "metadata": {
    "tags": []
   },
   "source": [
    "0.3. The Fibonacci numbers $F_0$, $F_1$, $F_2$ , $\\dots$, are defined by the rule"
   ]
  },
  {
   "cell_type": "markdown",
   "metadata": {
    "tags": []
   },
   "source": [
    "$F_0 = 0$, $F_1 = 1$, $F_n = F_{n−1} + F_{n−2}$."
   ]
  },
  {
   "cell_type": "markdown",
   "metadata": {
    "tags": []
   },
   "source": [
    "In this problem we will confirm that this sequence grows exponentially fast and obtain some bounds on its growth."
   ]
  },
  {
   "cell_type": "markdown",
   "metadata": {
    "tags": []
   },
   "source": [
    "(a) Use induction to prove that $F_n \\ge 2^{0.5n}$ for $n \\ge 6$."
   ]
  },
  {
   "cell_type": "markdown",
   "metadata": {
    "tags": []
   },
   "source": [
    "(b) Find a constant $c < 1$ such that $F_n \\le 2^{cn}$ for all $n \\ge 0$. Show that your answer is correct."
   ]
  },
  {
   "cell_type": "markdown",
   "metadata": {
    "tags": []
   },
   "source": [
    "(c) What is the largest $c$ you can find for which $F_n = Ω(2^{cn})$?"
   ]
  },
  {
   "cell_type": "markdown",
   "metadata": {
    "tags": []
   },
   "source": [
    "0.4. Is there a faster way to compute the nth Fibonacci number than by fib2 (page 13)? One idea involves matrices."
   ]
  },
  {
   "cell_type": "markdown",
   "metadata": {
    "tags": []
   },
   "source": [
    "We start by writing the equations F 1 = F 1 and F 2 = F 0 + F 1 in matrix notation:\n",
    "\u0012 \u0013 \u0012\n",
    "\u0013 \u0012 \u0013\n",
    "F 1\n",
    "0 1\n",
    "F 0\n",
    "=\n",
    "·\n",
    ".\n",
    "F 2\n",
    "1 1\n",
    "F 1\n",
    "Similarly,\n",
    "\u0012\n",
    "F 2\n",
    "F 3\n",
    "\u0013\n",
    "=\n",
    "\u0012\n",
    "\u0013 \u0012 \u0013 \u0012\n",
    "\u0013 2 \u0012 \u0013\n",
    "0 1\n",
    "F 1\n",
    "0 1\n",
    "F 0\n",
    "·\n",
    "=\n",
    "·\n",
    "1 1\n",
    "F 2\n",
    "1 1\n",
    "F 1\n",
    "18and in general\n",
    "\u0012\n",
    "F n\n",
    "F n+1\n",
    "\u0013\n",
    "=\n",
    "\u0012\n",
    "0 1\n",
    "1 1\n",
    "\u0013 n \u0012 \u0013\n",
    "F 0\n",
    "·\n",
    ".\n",
    "F 1\n",
    "So, in order to compute F n , it suffices to raise this 2 × 2 matrix, call it X, to the nth power.\n",
    "(a) Show that two 2 × 2 matrices can be multiplied using 4 additions and 8 multiplications.\n",
    "But how many matrix multiplications does it take to compute X n ?\n",
    "(b) Show that O(log n) matrix multiplications suffice for computing X n . (Hint: Think about\n",
    "computing X 8 .)\n",
    "Thus the number of arithmetic operations needed by our matrix-based algorithm, call it fib3, is\n",
    "just O(log n), as compared to O(n) for fib2. Have we broken another exponential barrier?\n",
    "The catch is that our new algorithm involves multiplication, not just addition; and multiplica-\n",
    "tions of large numbers are slower than additions. We have already seen that, when the complex-\n",
    "ity of arithmetic operations is taken into account, the running time of fib2 becomes O(n 2 ).\n",
    "(c) Show that all intermediate results of fib3 are O(n) bits long.\n",
    "(d) Let M (n) be the running time of an algorithm for multiplying n-bit numbers, and assume\n",
    "that M (n) = O(n 2 ) (the school method for multiplication, recalled in Chapter 1, achieves\n",
    "this). Prove that the running time of fib3 is O(M (n) log n).\n",
    "(e) Can you prove that the running time of fib3 is O(M (n))? (Hint: The lengths of the num-\n",
    "bers being multiplied get doubled with every squaring.)\n",
    "In conclusion, whether fib3 is faster than fib2 depends on whether we can multiply n-bit\n",
    "integers faster than O(n 2 ). Do you think this is possible? (The answer is in Chapter 2.)\n",
    "Finally, there is a formula for the Fibonacci numbers:\n",
    "√ ! n\n",
    "1+ 5\n",
    "1\n",
    "1\n",
    "− √\n",
    "F n = √\n",
    "2\n",
    "5\n",
    "5\n",
    "√ ! n\n",
    "1 − 5\n",
    ".\n",
    "2\n",
    "So, it would appear that we only need to raise a couple of numbers to the nth power in order to\n",
    "compute F n . The problem is that these numbers are irrational, and computing them to sufficient\n",
    "accuracy is nontrivial. In fact, our matrix method fib3 can be seen as a roundabout way of\n",
    "raising these irrational numbers to the nth power. If you know your linear algebra, you should\n",
    "see why. (Hint: What are the eigenvalues of the matrix X?)"
   ]
  },
  {
   "cell_type": "markdown",
   "metadata": {},
   "source": []
  }
 ],
 "metadata": {
  "kernelspec": {
   "display_name": "Python 3",
   "language": "python",
   "name": "python3"
  },
  "language_info": {
   "codemirror_mode": {
    "name": "ipython",
    "version": 3
   },
   "file_extension": ".py",
   "mimetype": "text/x-python",
   "name": "python",
   "nbconvert_exporter": "python",
   "pygments_lexer": "ipython3",
   "version": "3.8.3"
  }
 },
 "nbformat": 4,
 "nbformat_minor": 4
}
